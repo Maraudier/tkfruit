{
 "cells": [
  {
   "cell_type": "code",
   "execution_count": 11,
   "metadata": {},
   "outputs": [],
   "source": [
    "from __future__ import absolute_import, division, print_function, unicode_literals\n",
    "\n",
    "# Version of tensorflow should be specified in Colab\n",
    "import tensorflow as tf\n",
    "AUTOTUNE = tf.data.experimental.AUTOTUNE\n",
    "from tensorflow.keras import datasets, layers, models\n",
    "import IPython.display as display\n",
    "from PIL import Image\n",
    "import numpy as np\n",
    "import matplotlib.pyplot as plt\n",
    "import os"
   ]
  },
  {
   "cell_type": "code",
   "execution_count": 12,
   "metadata": {},
   "outputs": [],
   "source": [
    "import pathlib\n",
    "# Specifying test and training paths\n",
    "train_dir = pathlib.Path('/home/michael/Downloads/fruits-fresh-and-rotten-for-classification/dataset/train/')\n",
    "test_dir = pathlib.Path('/home/michael/Downloads/fruits-fresh-and-rotten-for-classification/dataset/test')"
   ]
  },
  {
   "cell_type": "code",
   "execution_count": 13,
   "metadata": {},
   "outputs": [
    {
     "data": {
      "text/plain": [
       "array(['rottenbanana', 'freshapples', 'rottenoranges', 'rottenapples',\n",
       "       'freshoranges', 'freshbanana'], dtype='<U13')"
      ]
     },
     "execution_count": 13,
     "metadata": {},
     "output_type": "execute_result"
    }
   ],
   "source": [
    "image_count = len(list(train_dir.glob('*/*.png'))) + len(list(test_dir.glob('*/*.png')))\n",
    "CLASS_NAMES = np.array([item.name for item in train_dir.glob('*') if item.name != 'LICENSE.txt'])\n",
    "CLASS_NAMES"
   ]
  },
  {
   "cell_type": "code",
   "execution_count": 14,
   "metadata": {},
   "outputs": [],
   "source": [
    "# The 1./255 is to convert from uint8 to float32 in range [0,1]. Split data into 80/20 \n",
    "test_generator = tf.keras.preprocessing.image.ImageDataGenerator(rescale=1./255)\n",
    "# The transformations shear_range, zoom_range, horizontal_flip will improve accuracy across data and allow for more generalized inputs\n",
    "train_generator = tf.keras.preprocessing.image.ImageDataGenerator(\n",
    "        rescale=1./255,\n",
    "        shear_range=0.2,\n",
    "        zoom_range=0.2,\n",
    "        rotation_range=20,\n",
    "        horizontal_flip=True)\n",
    "# CONSTANTS, currently unsure what to set IMG_HEIGHT and IMG_WIDTH\n",
    "BATCH_SIZE = 64\n",
    "IMG_HEIGHT = 128\n",
    "IMG_WIDTH = 128\n",
    "STEPS_PER_EPOCH = np.ceil(image_count/BATCH_SIZE)"
   ]
  },
  {
   "cell_type": "code",
   "execution_count": 15,
   "metadata": {},
   "outputs": [
    {
     "name": "stdout",
     "output_type": "stream",
     "text": [
      "Found 10901 images belonging to 6 classes.\n",
      "Found 2698 images belonging to 6 classes.\n"
     ]
    }
   ],
   "source": [
    "\n",
    "train_data_gen = train_generator.flow_from_directory(directory=str(train_dir),\n",
    "                                                     batch_size=BATCH_SIZE,\n",
    "                                                     shuffle=True,\n",
    "                                                     target_size=(IMG_HEIGHT, IMG_WIDTH),\n",
    "                                                     class_mode=\"sparse\",\n",
    "                                                     classes = list(CLASS_NAMES))\n",
    "test_data_gen = test_generator.flow_from_directory(directory=str(test_dir),\n",
    "                                                     batch_size=BATCH_SIZE,\n",
    "                                                     shuffle=True,\n",
    "                                                     target_size=(IMG_HEIGHT, IMG_WIDTH),\n",
    "                                                     class_mode=\"sparse\",\n",
    "                                                     classes = list(CLASS_NAMES))"
   ]
  },
  {
   "cell_type": "code",
   "execution_count": 16,
   "metadata": {},
   "outputs": [],
   "source": [
    "# CNN architecure based on https://machinelearningmastery.com/batch-normalization-for-training-of-deep-neural-networks/ I used batch normalization before an activation function like selu or relu\n",
    "model = models.Sequential()\n",
    "model.add(layers.Conv2D(32, (3, 3), activation='selu', input_shape=(IMG_HEIGHT, IMG_WIDTH, 3)))\n",
    "model.add(layers.MaxPooling2D((2, 2)))\n",
    "model.add(layers.BatchNormalization())\n",
    "model.add(layers.Conv2D(64, (3, 3), activation='selu'))\n",
    "model.add(layers.MaxPooling2D((2, 2)))\n",
    "model.add(layers.BatchNormalization())\n",
    "model.add(layers.Conv2D(64, (3, 3), activation='selu'))\n",
    "model.add(layers.MaxPooling2D((2, 2)))\n",
    "model.add(layers.BatchNormalization())\n",
    "model.add(layers.Flatten())\n",
    "model.add(layers.Dropout(.5))\n",
    "model.add(layers.Dense(64, activation='selu'))\n",
    "model.add(layers.Dense(6, activation='softmax'))\n",
    "model.summary()"
   ]
  },
  {
   "cell_type": "code",
   "execution_count": 17,
   "metadata": {},
   "outputs": [],
   "source": [
    "# Setup checkpoint callback - will save the model after each epoch if validation loss is lower than the previous checkpoint\n",
    "checkpoint = tf.keras.callbacks.ModelCheckpoint('./', save_best_only=True)"
   ]
  },
  {
   "cell_type": "code",
   "execution_count": 18,
   "metadata": {},
   "outputs": [
    {
     "name": "stdout",
     "output_type": "stream",
     "text": [
      "WARNING:tensorflow:sample_weight modes were coerced from\n",
      "  ...\n",
      "    to  \n",
      "  ['...']\n",
      "WARNING:tensorflow:sample_weight modes were coerced from\n",
      "  ...\n",
      "    to  \n",
      "  ['...']\n",
      "Train for 171 steps, validate for 43 steps\n",
      "Epoch 1/25\n",
      "170/171 [============================>.] - ETA: 0s - loss: 0.8651 - accuracy: 0.7650WARNING:tensorflow:From /home/michael/anaconda3/lib/python3.7/site-packages/tensorflow_core/python/ops/resource_variable_ops.py:1786: calling BaseResourceVariable.__init__ (from tensorflow.python.ops.resource_variable_ops) with constraint is deprecated and will be removed in a future version.\n",
      "Instructions for updating:\n",
      "If using Keras pass *_constraint arguments to layers.\n",
      "INFO:tensorflow:Assets written to: ./assets\n",
      "171/171 [==============================] - 148s 866ms/step - loss: 0.8646 - accuracy: 0.7653 - val_loss: 4.6777 - val_accuracy: 0.2676\n",
      "Epoch 2/25\n",
      "170/171 [============================>.] - ETA: 0s - loss: 0.4324 - accuracy: 0.8617INFO:tensorflow:Assets written to: ./assets\n",
      "171/171 [==============================] - 149s 870ms/step - loss: 0.4316 - accuracy: 0.8617 - val_loss: 1.1697 - val_accuracy: 0.6664\n",
      "Epoch 3/25\n",
      "170/171 [============================>.] - ETA: 0s - loss: 0.3171 - accuracy: 0.8911INFO:tensorflow:Assets written to: ./assets\n",
      "171/171 [==============================] - 147s 861ms/step - loss: 0.3166 - accuracy: 0.8915 - val_loss: 0.5831 - val_accuracy: 0.8188\n",
      "Epoch 4/25\n",
      "170/171 [============================>.] - ETA: 0s - loss: 0.2946 - accuracy: 0.9003INFO:tensorflow:Assets written to: ./assets\n",
      "171/171 [==============================] - 147s 859ms/step - loss: 0.2938 - accuracy: 0.9007 - val_loss: 0.2559 - val_accuracy: 0.9159\n",
      "Epoch 5/25\n",
      "170/171 [============================>.] - ETA: 0s - loss: 0.2489 - accuracy: 0.9158INFO:tensorflow:Assets written to: ./assets\n",
      "171/171 [==============================] - 147s 857ms/step - loss: 0.2485 - accuracy: 0.9160 - val_loss: 0.2509 - val_accuracy: 0.9133\n",
      "Epoch 6/25\n",
      "170/171 [============================>.] - ETA: 0s - loss: 0.2304 - accuracy: 0.9194INFO:tensorflow:Assets written to: ./assets\n",
      "171/171 [==============================] - 144s 843ms/step - loss: 0.2297 - accuracy: 0.9197 - val_loss: 0.1543 - val_accuracy: 0.9459\n",
      "Epoch 7/25\n",
      "171/171 [==============================] - 138s 808ms/step - loss: 0.1807 - accuracy: 0.9332 - val_loss: 1.2849 - val_accuracy: 0.7669\n",
      "Epoch 8/25\n",
      "171/171 [==============================] - 138s 806ms/step - loss: 0.1800 - accuracy: 0.9356 - val_loss: 1.9088 - val_accuracy: 0.6646\n",
      "Epoch 9/25\n",
      "171/171 [==============================] - 140s 821ms/step - loss: 0.1489 - accuracy: 0.9455 - val_loss: 0.6619 - val_accuracy: 0.8143\n",
      "Epoch 10/25\n",
      "171/171 [==============================] - 139s 811ms/step - loss: 0.1657 - accuracy: 0.9403 - val_loss: 0.4323 - val_accuracy: 0.8814\n",
      "Epoch 11/25\n",
      "171/171 [==============================] - 137s 802ms/step - loss: 0.1673 - accuracy: 0.9438 - val_loss: 0.3977 - val_accuracy: 0.8984\n",
      "Epoch 12/25\n",
      "171/171 [==============================] - 137s 803ms/step - loss: 0.1539 - accuracy: 0.9477 - val_loss: 1.1349 - val_accuracy: 0.7532\n",
      "Epoch 13/25\n",
      "171/171 [==============================] - 137s 801ms/step - loss: 0.1458 - accuracy: 0.9482 - val_loss: 0.1771 - val_accuracy: 0.9455\n",
      "Epoch 14/25\n",
      "170/171 [============================>.] - ETA: 0s - loss: 0.1298 - accuracy: 0.9570INFO:tensorflow:Assets written to: ./assets\n",
      "171/171 [==============================] - 141s 823ms/step - loss: 0.1294 - accuracy: 0.9571 - val_loss: 0.0864 - val_accuracy: 0.9659\n",
      "Epoch 15/25\n",
      "170/171 [============================>.] - ETA: 0s - loss: 0.1167 - accuracy: 0.9576INFO:tensorflow:Assets written to: ./assets\n",
      "171/171 [==============================] - 146s 856ms/step - loss: 0.1163 - accuracy: 0.9578 - val_loss: 0.0858 - val_accuracy: 0.9640\n",
      "Epoch 16/25\n",
      "171/171 [==============================] - 143s 838ms/step - loss: 0.1138 - accuracy: 0.9618 - val_loss: 0.2471 - val_accuracy: 0.9355\n",
      "Epoch 17/25\n",
      "171/171 [==============================] - 143s 838ms/step - loss: 0.1072 - accuracy: 0.9630 - val_loss: 1.9711 - val_accuracy: 0.6857\n",
      "Epoch 18/25\n",
      "171/171 [==============================] - 143s 838ms/step - loss: 0.1167 - accuracy: 0.9603 - val_loss: 0.4461 - val_accuracy: 0.8988\n",
      "Epoch 19/25\n",
      "170/171 [============================>.] - ETA: 0s - loss: 0.1121 - accuracy: 0.9619INFO:tensorflow:Assets written to: ./assets\n",
      "171/171 [==============================] - 145s 846ms/step - loss: 0.1121 - accuracy: 0.9619 - val_loss: 0.0788 - val_accuracy: 0.9726\n",
      "Epoch 20/25\n",
      "171/171 [==============================] - 143s 837ms/step - loss: 0.1008 - accuracy: 0.9662 - val_loss: 0.7328 - val_accuracy: 0.8458\n",
      "Epoch 21/25\n",
      "171/171 [==============================] - 143s 838ms/step - loss: 0.1041 - accuracy: 0.9639 - val_loss: 0.1106 - val_accuracy: 0.9655\n",
      "Epoch 22/25\n",
      "171/171 [==============================] - 143s 836ms/step - loss: 0.1036 - accuracy: 0.9673 - val_loss: 1.4487 - val_accuracy: 0.7906\n",
      "Epoch 23/25\n",
      "171/171 [==============================] - 143s 839ms/step - loss: 0.0874 - accuracy: 0.9673 - val_loss: 0.2232 - val_accuracy: 0.9463\n",
      "Epoch 24/25\n",
      "171/171 [==============================] - 144s 842ms/step - loss: 0.0854 - accuracy: 0.9711 - val_loss: 2.9481 - val_accuracy: 0.7661\n",
      "Epoch 25/25\n",
      "171/171 [==============================] - 143s 836ms/step - loss: 0.0791 - accuracy: 0.9732 - val_loss: 0.0893 - val_accuracy: 0.9752\n"
     ]
    }
   ],
   "source": [
    "# Compiler\n",
    "model.compile(optimizer='adam',\n",
    "              loss='sparse_categorical_crossentropy',\n",
    "              metrics=['accuracy'])\n",
    "\n",
    "# Training the data and validating with test data\n",
    "history = model.fit(\n",
    "        train_data_gen,\n",
    "        epochs=25,\n",
    "        callbacks=[checkpoint],\n",
    "        validation_data=test_data_gen)"
   ]
  },
  {
   "cell_type": "code",
   "execution_count": 19,
   "metadata": {},
   "outputs": [
    {
     "name": "stdout",
     "output_type": "stream",
     "text": [
      "WARNING:tensorflow:sample_weight modes were coerced from\n",
      "  ...\n",
      "    to  \n",
      "  ['...']\n",
      "43/43 - 10s - loss: 0.0893 - accuracy: 0.9752\n"
     ]
    },
    {
     "data": {
      "image/png": "[encoded data removed]",
      "text/plain": [
       "<Figure size 432x288 with 1 Axes>"
      ]
     },
     "metadata": {
      "needs_background": "light"
     },
     "output_type": "display_data"
    }
   ],
   "source": [
    "\n",
    "plt.plot(history.history['accuracy'], label='accuracy')\n",
    "plt.plot(history.history['val_accuracy'], label = 'val_accuracy')\n",
    "plt.xlabel('Epoch')\n",
    "plt.ylabel('Accuracy')\n",
    "plt.ylim([0.1, 1])\n",
    "plt.legend(loc='lower right')\n",
    "\n",
    "test_loss, test_acc = model.evaluate(test_data_gen, verbose=2)"
   ]
  },
  {
   "cell_type": "code",
   "execution_count": 20,
   "metadata": {},
   "outputs": [],
   "source": [
    "import base64\n",
    "\n",
    "def save_model_signed(model, path):\n",
    "    @tf.function(input_signature=[tf.TensorSpec(shape=[None, ], dtype=tf.string)])\n",
    "    def preprocess_and_evaluate(b64_img):\n",
    "        img = tf.image.decode_image(b64_img[0], dtype=tf.uint8)\n",
    "        img.set_shape((None, None, 3))\n",
    "        img = tf.image.resize(img, [128, 128])\n",
    "        img = tf.reshape(img, (-1, 128, 128, 3))\n",
    "        img = tf.cast(img, dtype=tf.float32) / 255\n",
    "\n",
    "\n",
    "        return model(img)\n",
    "    \n",
    "    tf.saved_model.save(model, path, signatures=preprocess_and_evaluate)"
   ]
  },
  {
   "cell_type": "code",
   "execution_count": 21,
   "metadata": {},
   "outputs": [
    {
     "name": "stdout",
     "output_type": "stream",
     "text": [
      "INFO:tensorflow:Assets written to: assets\n"
     ]
    }
   ],
   "source": [
    "save_model_signed(model,'')"
   ]
  },
  {
   "cell_type": "code",
   "execution_count": null,
   "metadata": {},
   "outputs": [],
   "source": []
  }
 ],
 "metadata": {
  "kernelspec": {
   "display_name": "Python 3",
   "language": "python",
   "name": "python3"
  },
  "language_info": {
   "codemirror_mode": {
    "name": "ipython",
    "version": 3
   },
   "file_extension": ".py",
   "mimetype": "text/x-python",
   "name": "python",
   "nbconvert_exporter": "python",
   "pygments_lexer": "ipython3",
   "version": "3.7.4"
  }
 },
 "nbformat": 4,
 "nbformat_minor": 2
}
