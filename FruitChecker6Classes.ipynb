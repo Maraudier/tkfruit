{
  "nbformat": 4,
  "nbformat_minor": 0,
  "metadata": {
    "colab": {
      "name": "FruitChecker6Classes.ipynb",
      "provenance": [],
      "collapsed_sections": []
    },
    "kernelspec": {
      "name": "python3",
      "display_name": "Python 3"
    },
    "accelerator": "GPU"
  },
  "cells": [
    {
      "cell_type": "markdown",
      "metadata": {
        "id": "rlk1goQRTEsT",
        "colab_type": "text"
      },
      "source": [
        "Mounting a Google Drive to Google Colab"
      ]
    },
    {
      "cell_type": "code",
      "metadata": {
        "id": "EVlZD1FKQ5e-",
        "colab_type": "code",
        "outputId": "54698d13-e1fc-4793-c41e-685a2c090c82",
        "colab": {
          "base_uri": "https://localhost:8080/",
          "height": 128
        }
      },
      "source": [
        "from google.colab import drive\n",
        "drive.mount('/content/drive')"
      ],
      "execution_count": 1,
      "outputs": [
        {
          "output_type": "stream",
          "text": [
            "Go to this URL in a browser: https://accounts.google.com/o/oauth2/auth?client_id=947318989803-6bn6qk8qdgf4n4g3pfee6491hc0brc4i.apps.googleusercontent.com&redirect_uri=urn%3aietf%3awg%3aoauth%3a2.0%3aoob&response_type=code&scope=email%20https%3a%2f%2fwww.googleapis.com%2fauth%2fdocs.test%20https%3a%2f%2fwww.googleapis.com%2fauth%2fdrive%20https%3a%2f%2fwww.googleapis.com%2fauth%2fdrive.photos.readonly%20https%3a%2f%2fwww.googleapis.com%2fauth%2fpeopleapi.readonly\n",
            "\n",
            "Enter your authorization code:\n",
            "··········\n",
            "Mounted at /content/drive\n"
          ],
          "name": "stdout"
        }
      ]
    },
    {
      "cell_type": "markdown",
      "metadata": {
        "id": "3joYERxpImHj",
        "colab_type": "text"
      },
      "source": [
        "Selecting the latest version of Tensorflow"
      ]
    },
    {
      "cell_type": "code",
      "metadata": {
        "id": "-EWf412u0-M5",
        "colab_type": "code",
        "colab": {
          "base_uri": "https://localhost:8080/",
          "height": 35
        },
        "outputId": "6312641a-6fa2-4fe7-c554-8190f1a74573"
      },
      "source": [
        "%tensorflow_version 2.x"
      ],
      "execution_count": 1,
      "outputs": [
        {
          "output_type": "stream",
          "text": [
            "TensorFlow 2.x selected.\n"
          ],
          "name": "stdout"
        }
      ]
    },
    {
      "cell_type": "markdown",
      "metadata": {
        "id": "Geitb3z3Istx",
        "colab_type": "text"
      },
      "source": [
        "Importing Tensorflow and checking what version we're using, as well as checking for a GPU"
      ]
    },
    {
      "cell_type": "code",
      "metadata": {
        "id": "yPEjct1lI1lQ",
        "colab_type": "code",
        "outputId": "8d7d7f7d-2914-491b-dfd4-fba12d2ee4fc",
        "colab": {
          "base_uri": "https://localhost:8080/",
          "height": 53
        }
      },
      "source": [
        "import tensorflow as tf\n",
        "print(tf.test.gpu_device_name())\n",
        "print(tf.__version__)"
      ],
      "execution_count": 2,
      "outputs": [
        {
          "output_type": "stream",
          "text": [
            "/device:GPU:0\n",
            "2.1.0-rc1\n"
          ],
          "name": "stdout"
        }
      ]
    },
    {
      "cell_type": "markdown",
      "metadata": {
        "id": "rWSWQ3aVJCK7",
        "colab_type": "text"
      },
      "source": [
        "Import any other necessary libraries"
      ]
    },
    {
      "cell_type": "code",
      "metadata": {
        "id": "YvdQXuxZJIq6",
        "colab_type": "code",
        "colab": {}
      },
      "source": [
        "from tensorflow.keras import Sequential\n",
        "from tensorflow.keras.layers import Conv2D, MaxPooling2D, Flatten, Dense, Dropout, BatchNormalization\n",
        "from tensorflow.keras.preprocessing.image import ImageDataGenerator\n",
        "from tensorflow.keras.preprocessing import image\n",
        "from tensorflow.keras.constraints import MaxNorm"
      ],
      "execution_count": 0,
      "outputs": []
    },
    {
      "cell_type": "markdown",
      "metadata": {
        "id": "pRSCahaTJ-La",
        "colab_type": "text"
      },
      "source": [
        "Create a Sequential object"
      ]
    },
    {
      "cell_type": "code",
      "metadata": {
        "id": "vaS2bIUQKE-Z",
        "colab_type": "code",
        "colab": {}
      },
      "source": [
        "classifier = Sequential([\n",
        "    Conv2D(32, (3, 3), input_shape = (64, 64, 3), activation = 'relu', padding = 'same'),\n",
        "    Dropout(0.2),\n",
        "    BatchNormalization(),\n",
        "    Conv2D(64, (3, 3), activation = 'relu', padding = 'same'),\n",
        "    MaxPooling2D(pool_size = (2, 2)),\n",
        "    Dropout(0.3),\n",
        "    BatchNormalization(),\n",
        "    Conv2D(128, (3, 3), activation = 'relu', padding = 'same'),\n",
        "    Dropout(0.3),\n",
        "    BatchNormalization(),\n",
        "    Flatten(),\n",
        "    Dropout(0.3),\n",
        "    Dense(units = 128, activation = 'relu', kernel_constraint = MaxNorm(3)),\n",
        "    Dropout(0.3),\n",
        "    BatchNormalization(),\n",
        "    Dense(units = 6, activation = 'softmax')\n",
        "])"
      ],
      "execution_count": 0,
      "outputs": []
    },
    {
      "cell_type": "markdown",
      "metadata": {
        "id": "W0KyvYnnKWFa",
        "colab_type": "text"
      },
      "source": [
        "Compile the Sequential object"
      ]
    },
    {
      "cell_type": "code",
      "metadata": {
        "id": "vKGjEsQYKYOZ",
        "colab_type": "code",
        "colab": {}
      },
      "source": [
        "classifier.compile(\n",
        "    optimizer = 'adam',\n",
        "    loss = 'categorical_crossentropy', \n",
        "    metrics = ['accuracy']\n",
        ")"
      ],
      "execution_count": 0,
      "outputs": []
    },
    {
      "cell_type": "markdown",
      "metadata": {
        "id": "eqxEStLlLnhM",
        "colab_type": "text"
      },
      "source": [
        "Create the training data generator"
      ]
    },
    {
      "cell_type": "code",
      "metadata": {
        "id": "k9J_qCdcLuIY",
        "colab_type": "code",
        "colab": {}
      },
      "source": [
        "train_datagen = ImageDataGenerator(\n",
        "    rescale = 1./255, \n",
        "    shear_range = 0.2, \n",
        "    zoom_range = 0.2, \n",
        "    horizontal_flip = True\n",
        ")"
      ],
      "execution_count": 0,
      "outputs": []
    },
    {
      "cell_type": "markdown",
      "metadata": {
        "id": "M4cGZC4TL4Fq",
        "colab_type": "text"
      },
      "source": [
        "Create the testing data generator"
      ]
    },
    {
      "cell_type": "code",
      "metadata": {
        "id": "fsltKRLiL9-w",
        "colab_type": "code",
        "colab": {}
      },
      "source": [
        "test_datagen = ImageDataGenerator(rescale = 1./255)"
      ],
      "execution_count": 0,
      "outputs": []
    },
    {
      "cell_type": "markdown",
      "metadata": {
        "id": "3bmL9kTvMA1S",
        "colab_type": "text"
      },
      "source": [
        "Setup the training dataset"
      ]
    },
    {
      "cell_type": "code",
      "metadata": {
        "id": "-sGsUkzQMDXw",
        "colab_type": "code",
        "outputId": "5119b2f2-843d-4f8b-d235-b28e2df2b074",
        "colab": {
          "base_uri": "https://localhost:8080/",
          "height": 35
        }
      },
      "source": [
        "training_set = train_datagen.flow_from_directory(\n",
        "    \"/content/drive/My Drive/Colab Notebooks/FRFD/train\", \n",
        "    target_size = (64, 64), \n",
        "    batch_size = 128, \n",
        "    class_mode = 'categorical'\n",
        ")"
      ],
      "execution_count": 8,
      "outputs": [
        {
          "output_type": "stream",
          "text": [
            "Found 10955 images belonging to 6 classes.\n"
          ],
          "name": "stdout"
        }
      ]
    },
    {
      "cell_type": "markdown",
      "metadata": {
        "id": "s5qONctMMFvR",
        "colab_type": "text"
      },
      "source": [
        "Setup the testing dataset"
      ]
    },
    {
      "cell_type": "code",
      "metadata": {
        "id": "Y2aJvmIeMMLR",
        "colab_type": "code",
        "outputId": "af9760ad-7ce1-43c0-834e-40d8e32f5d6c",
        "colab": {
          "base_uri": "https://localhost:8080/",
          "height": 35
        }
      },
      "source": [
        "test_set = test_datagen.flow_from_directory(\n",
        "    \"/content/drive/My Drive/Colab Notebooks/FRFD/test\", \n",
        "    target_size = (64, 64), \n",
        "    batch_size = 128, \n",
        "    class_mode = 'categorical'\n",
        ")"
      ],
      "execution_count": 9,
      "outputs": [
        {
          "output_type": "stream",
          "text": [
            "Found 2698 images belonging to 6 classes.\n"
          ],
          "name": "stdout"
        }
      ]
    },
    {
      "cell_type": "markdown",
      "metadata": {
        "id": "LhqeaW0-MVQ5",
        "colab_type": "text"
      },
      "source": [
        "Setup the fit generator for the Sequential object & apply it"
      ]
    },
    {
      "cell_type": "code",
      "metadata": {
        "id": "cMK5X3iGhDTQ",
        "colab_type": "code",
        "outputId": "19dbf50b-173b-4e9b-a480-fe3fff2d65a6",
        "colab": {
          "base_uri": "https://localhost:8080/",
          "height": 1000
        }
      },
      "source": [
        "classifier.fit(\n",
        "  training_set,\n",
        "  epochs = 30,\n",
        "  validation_data = test_set\n",
        "  #steps_per_epoch = 100,\n",
        "  #validation_steps = 100\n",
        ")"
      ],
      "execution_count": 11,
      "outputs": [
        {
          "output_type": "stream",
          "text": [
            "WARNING:tensorflow:sample_weight modes were coerced from\n",
            "  ...\n",
            "    to  \n",
            "  ['...']\n",
            "WARNING:tensorflow:sample_weight modes were coerced from\n",
            "  ...\n",
            "    to  \n",
            "  ['...']\n",
            "Train for 86 steps, validate for 22 steps\n",
            "Epoch 1/30\n",
            "86/86 [==============================] - 843s 10s/step - loss: 0.6726 - accuracy: 0.7765 - val_loss: 3.3332 - val_accuracy: 0.1494\n",
            "Epoch 2/30\n",
            "86/86 [==============================] - 89s 1s/step - loss: 0.3408 - accuracy: 0.8819 - val_loss: 3.4366 - val_accuracy: 0.1494\n",
            "Epoch 3/30\n",
            "86/86 [==============================] - 89s 1s/step - loss: 0.2557 - accuracy: 0.9090 - val_loss: 3.2290 - val_accuracy: 0.1961\n",
            "Epoch 4/30\n",
            "86/86 [==============================] - 88s 1s/step - loss: 0.2201 - accuracy: 0.9231 - val_loss: 1.9967 - val_accuracy: 0.4544\n",
            "Epoch 5/30\n",
            "86/86 [==============================] - 88s 1s/step - loss: 0.1878 - accuracy: 0.9360 - val_loss: 2.4456 - val_accuracy: 0.4062\n",
            "Epoch 6/30\n",
            "86/86 [==============================] - 88s 1s/step - loss: 0.1622 - accuracy: 0.9435 - val_loss: 1.8166 - val_accuracy: 0.5234\n",
            "Epoch 7/30\n",
            "86/86 [==============================] - 87s 1s/step - loss: 0.1396 - accuracy: 0.9516 - val_loss: 1.1293 - val_accuracy: 0.6082\n",
            "Epoch 8/30\n",
            "86/86 [==============================] - 87s 1s/step - loss: 0.1284 - accuracy: 0.9552 - val_loss: 0.9385 - val_accuracy: 0.7172\n",
            "Epoch 9/30\n",
            "86/86 [==============================] - 86s 1s/step - loss: 0.1227 - accuracy: 0.9579 - val_loss: 0.8147 - val_accuracy: 0.7417\n",
            "Epoch 10/30\n",
            "86/86 [==============================] - 90s 1s/step - loss: 0.1092 - accuracy: 0.9618 - val_loss: 0.5796 - val_accuracy: 0.8351\n",
            "Epoch 11/30\n",
            "86/86 [==============================] - 90s 1s/step - loss: 0.0948 - accuracy: 0.9696 - val_loss: 0.5144 - val_accuracy: 0.8495\n",
            "Epoch 12/30\n",
            "86/86 [==============================] - 90s 1s/step - loss: 0.0988 - accuracy: 0.9656 - val_loss: 0.5549 - val_accuracy: 0.8006\n",
            "Epoch 13/30\n",
            "86/86 [==============================] - 90s 1s/step - loss: 0.0824 - accuracy: 0.9733 - val_loss: 0.2980 - val_accuracy: 0.8977\n",
            "Epoch 14/30\n",
            "86/86 [==============================] - 91s 1s/step - loss: 0.0865 - accuracy: 0.9690 - val_loss: 0.6606 - val_accuracy: 0.8136\n",
            "Epoch 15/30\n",
            "86/86 [==============================] - 91s 1s/step - loss: 0.0712 - accuracy: 0.9763 - val_loss: 0.8645 - val_accuracy: 0.7687\n",
            "Epoch 16/30\n",
            "86/86 [==============================] - 90s 1s/step - loss: 0.0693 - accuracy: 0.9759 - val_loss: 0.5244 - val_accuracy: 0.8314\n",
            "Epoch 17/30\n",
            "86/86 [==============================] - 91s 1s/step - loss: 0.0717 - accuracy: 0.9764 - val_loss: 0.1810 - val_accuracy: 0.9277\n",
            "Epoch 18/30\n",
            "86/86 [==============================] - 91s 1s/step - loss: 0.0656 - accuracy: 0.9790 - val_loss: 0.3682 - val_accuracy: 0.9047\n",
            "Epoch 19/30\n",
            "86/86 [==============================] - 90s 1s/step - loss: 0.0679 - accuracy: 0.9750 - val_loss: 0.7722 - val_accuracy: 0.7743\n",
            "Epoch 20/30\n",
            "86/86 [==============================] - 89s 1s/step - loss: 0.0643 - accuracy: 0.9764 - val_loss: 0.2661 - val_accuracy: 0.9229\n",
            "Epoch 21/30\n",
            "86/86 [==============================] - 90s 1s/step - loss: 0.0734 - accuracy: 0.9760 - val_loss: 0.4866 - val_accuracy: 0.8499\n",
            "Epoch 22/30\n",
            "86/86 [==============================] - 90s 1s/step - loss: 0.0581 - accuracy: 0.9806 - val_loss: 0.5172 - val_accuracy: 0.8421\n",
            "Epoch 23/30\n",
            "86/86 [==============================] - 89s 1s/step - loss: 0.0552 - accuracy: 0.9806 - val_loss: 0.1099 - val_accuracy: 0.9577\n",
            "Epoch 24/30\n",
            "86/86 [==============================] - 90s 1s/step - loss: 0.0684 - accuracy: 0.9750 - val_loss: 0.0995 - val_accuracy: 0.9633\n",
            "Epoch 25/30\n",
            "86/86 [==============================] - 90s 1s/step - loss: 0.0596 - accuracy: 0.9782 - val_loss: 0.1791 - val_accuracy: 0.9489\n",
            "Epoch 26/30\n",
            "86/86 [==============================] - 89s 1s/step - loss: 0.0580 - accuracy: 0.9797 - val_loss: 0.1161 - val_accuracy: 0.9540\n",
            "Epoch 27/30\n",
            "86/86 [==============================] - 90s 1s/step - loss: 0.0625 - accuracy: 0.9783 - val_loss: 0.3563 - val_accuracy: 0.8807\n",
            "Epoch 28/30\n",
            "86/86 [==============================] - 89s 1s/step - loss: 0.0724 - accuracy: 0.9755 - val_loss: 0.0711 - val_accuracy: 0.9711\n",
            "Epoch 29/30\n",
            "86/86 [==============================] - 90s 1s/step - loss: 0.0555 - accuracy: 0.9807 - val_loss: 0.1885 - val_accuracy: 0.9370\n",
            "Epoch 30/30\n",
            "86/86 [==============================] - 89s 1s/step - loss: 0.0637 - accuracy: 0.9777 - val_loss: 0.1975 - val_accuracy: 0.9318\n"
          ],
          "name": "stdout"
        },
        {
          "output_type": "execute_result",
          "data": {
            "text/plain": [
              "<tensorflow.python.keras.callbacks.History at 0x7f02a05e23c8>"
            ]
          },
          "metadata": {
            "tags": []
          },
          "execution_count": 11
        }
      ]
    },
    {
      "cell_type": "markdown",
      "metadata": {
        "id": "QG3S8HA_MfW7",
        "colab_type": "text"
      },
      "source": [
        "Test/evaluate the final model"
      ]
    },
    {
      "cell_type": "code",
      "metadata": {
        "id": "OY6lwiEVMjVR",
        "colab_type": "code",
        "colab": {
          "base_uri": "https://localhost:8080/",
          "height": 108
        },
        "outputId": "c1ba2809-cb2a-4187-faa7-214ae7da245c"
      },
      "source": [
        "#classes = training_set.class_indices\n",
        "#print(\"Classes used: %s\\n\" % classes)\n",
        "#test_img = image.load_img(\"/content/orange.png\")\n",
        "#test_img = image.img_to_array(test_img)\n",
        "#test_img = np.array(test_img, axis = 0)\n",
        "#result = classifier.predict(test_img)\n",
        "#print(\"Prediction result: %s\\n\" % result)\n",
        "scores = classifier.evaluate(test_set, verbose = 0)\n",
        "print(\"Accuracy: %.2f%%\" % (scores[1] * 100))"
      ],
      "execution_count": 12,
      "outputs": [
        {
          "output_type": "stream",
          "text": [
            "WARNING:tensorflow:sample_weight modes were coerced from\n",
            "  ...\n",
            "    to  \n",
            "  ['...']\n",
            "Accuracy: 93.18%\n"
          ],
          "name": "stdout"
        }
      ]
    }
  ]
}